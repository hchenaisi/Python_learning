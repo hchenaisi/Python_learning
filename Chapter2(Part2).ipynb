{
  "nbformat": 4,
  "nbformat_minor": 0,
  "metadata": {
    "colab": {
      "name": "Chapter2(Part2).ipynb",
      "provenance": [],
      "authorship_tag": "ABX9TyORPojRG2BVYhQW6C6JoP6H",
      "include_colab_link": true
    },
    "kernelspec": {
      "name": "python3",
      "display_name": "Python 3"
    },
    "language_info": {
      "name": "python"
    }
  },
  "cells": [
    {
      "cell_type": "markdown",
      "metadata": {
        "id": "view-in-github",
        "colab_type": "text"
      },
      "source": [
        "<a href=\"https://colab.research.google.com/github/hchenaisi/Python_learning/blob/main/Chapter2(Part2).ipynb\" target=\"_parent\"><img src=\"https://colab.research.google.com/assets/colab-badge.svg\" alt=\"Open In Colab\"/></a>"
      ]
    },
    {
      "cell_type": "markdown",
      "metadata": {
        "id": "oPx1dkolhhek"
      },
      "source": [
        "Chapter 2 (conti) Naive Bayes Classifiers, which is more efficient than LogisticRegression and LinearSVC."
      ]
    },
    {
      "cell_type": "markdown",
      "metadata": {
        "id": "8-99wAksiCfD"
      },
      "source": [
        "BernoulliNB counts each class is not zero."
      ]
    },
    {
      "cell_type": "code",
      "metadata": {
        "id": "H-CeME9Jhfkx"
      },
      "source": [
        ""
      ],
      "execution_count": null,
      "outputs": []
    }
  ]
}