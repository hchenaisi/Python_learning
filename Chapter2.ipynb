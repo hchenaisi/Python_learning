{
  "nbformat": 4,
  "nbformat_minor": 0,
  "metadata": {
    "colab": {
      "name": "Chapter2.ipynb",
      "provenance": [],
      "authorship_tag": "ABX9TyMLiz4wcw5cIsZw/yq4aGnh",
      "include_colab_link": true
    },
    "kernelspec": {
      "name": "python3",
      "display_name": "Python 3"
    },
    "language_info": {
      "name": "python"
    }
  },
  "cells": [
    {
      "cell_type": "markdown",
      "metadata": {
        "id": "view-in-github",
        "colab_type": "text"
      },
      "source": [
        "<a href=\"https://colab.research.google.com/github/hchenaisi/Python_learning/blob/main/Chapter2.ipynb\" target=\"_parent\"><img src=\"https://colab.research.google.com/assets/colab-badge.svg\" alt=\"Open In Colab\"/></a>"
      ]
    },
    {
      "cell_type": "markdown",
      "metadata": {
        "id": "L6bq2VIg2iQt"
      },
      "source": [
        "Chapter 2, Supervised Learning\n",
        "In supervised learning, we want to build a model on the training data and then be able to make accurate predictions on new, unseen data that has the same characteristics as the training set that we used."
      ]
    },
    {
      "cell_type": "code",
      "metadata": {
        "colab": {
          "base_uri": "https://localhost:8080/",
          "height": 758
        },
        "id": "0Ktb4wkw2oWd",
        "outputId": "99714f6a-5c23-43ec-b185-6203773579dd"
      },
      "source": [
        "import numpy as np\n",
        "import matplotlib.pyplot as plt\n",
        "import pandas as pd\n",
        "!pip install mglearn\n",
        "import mglearn\n",
        "\n",
        "# generate dataset\n",
        "X, y = mglearn.datasets.make_forge()\n",
        "mglearn.discrete_scatter(X[:,0], X[:, 1], y)\n",
        "plt.legend([\"Class 0\", \"Class 1\"], loc=4)\n",
        "plt.xlabel(\"First freature\")\n",
        "plt.ylabel(\"Second feature\")\n",
        "print(\"X.shape: {}\".format(X.shape))"
      ],
      "execution_count": 1,
      "outputs": [
        {
          "output_type": "stream",
          "name": "stdout",
          "text": [
            "Collecting mglearn\n",
            "  Downloading mglearn-0.1.9.tar.gz (540 kB)\n",
            "\u001b[?25l\r\u001b[K     |▋                               | 10 kB 17.9 MB/s eta 0:00:01\r\u001b[K     |█▏                              | 20 kB 21.9 MB/s eta 0:00:01\r\u001b[K     |█▉                              | 30 kB 24.5 MB/s eta 0:00:01\r\u001b[K     |██▍                             | 40 kB 25.4 MB/s eta 0:00:01\r\u001b[K     |███                             | 51 kB 25.5 MB/s eta 0:00:01\r\u001b[K     |███▋                            | 61 kB 25.3 MB/s eta 0:00:01\r\u001b[K     |████▎                           | 71 kB 24.6 MB/s eta 0:00:01\r\u001b[K     |████▉                           | 81 kB 24.5 MB/s eta 0:00:01\r\u001b[K     |█████▌                          | 92 kB 25.4 MB/s eta 0:00:01\r\u001b[K     |██████                          | 102 kB 26.7 MB/s eta 0:00:01\r\u001b[K     |██████▊                         | 112 kB 26.7 MB/s eta 0:00:01\r\u001b[K     |███████▎                        | 122 kB 26.7 MB/s eta 0:00:01\r\u001b[K     |███████▉                        | 133 kB 26.7 MB/s eta 0:00:01\r\u001b[K     |████████▌                       | 143 kB 26.7 MB/s eta 0:00:01\r\u001b[K     |█████████                       | 153 kB 26.7 MB/s eta 0:00:01\r\u001b[K     |█████████▊                      | 163 kB 26.7 MB/s eta 0:00:01\r\u001b[K     |██████████▎                     | 174 kB 26.7 MB/s eta 0:00:01\r\u001b[K     |███████████                     | 184 kB 26.7 MB/s eta 0:00:01\r\u001b[K     |███████████▌                    | 194 kB 26.7 MB/s eta 0:00:01\r\u001b[K     |████████████▏                   | 204 kB 26.7 MB/s eta 0:00:01\r\u001b[K     |████████████▊                   | 215 kB 26.7 MB/s eta 0:00:01\r\u001b[K     |█████████████▍                  | 225 kB 26.7 MB/s eta 0:00:01\r\u001b[K     |██████████████                  | 235 kB 26.7 MB/s eta 0:00:01\r\u001b[K     |██████████████▋                 | 245 kB 26.7 MB/s eta 0:00:01\r\u001b[K     |███████████████▏                | 256 kB 26.7 MB/s eta 0:00:01\r\u001b[K     |███████████████▊                | 266 kB 26.7 MB/s eta 0:00:01\r\u001b[K     |████████████████▍               | 276 kB 26.7 MB/s eta 0:00:01\r\u001b[K     |█████████████████               | 286 kB 26.7 MB/s eta 0:00:01\r\u001b[K     |█████████████████▋              | 296 kB 26.7 MB/s eta 0:00:01\r\u001b[K     |██████████████████▏             | 307 kB 26.7 MB/s eta 0:00:01\r\u001b[K     |██████████████████▉             | 317 kB 26.7 MB/s eta 0:00:01\r\u001b[K     |███████████████████▍            | 327 kB 26.7 MB/s eta 0:00:01\r\u001b[K     |████████████████████            | 337 kB 26.7 MB/s eta 0:00:01\r\u001b[K     |████████████████████▋           | 348 kB 26.7 MB/s eta 0:00:01\r\u001b[K     |█████████████████████▎          | 358 kB 26.7 MB/s eta 0:00:01\r\u001b[K     |█████████████████████▉          | 368 kB 26.7 MB/s eta 0:00:01\r\u001b[K     |██████████████████████▌         | 378 kB 26.7 MB/s eta 0:00:01\r\u001b[K     |███████████████████████         | 389 kB 26.7 MB/s eta 0:00:01\r\u001b[K     |███████████████████████▋        | 399 kB 26.7 MB/s eta 0:00:01\r\u001b[K     |████████████████████████▎       | 409 kB 26.7 MB/s eta 0:00:01\r\u001b[K     |████████████████████████▉       | 419 kB 26.7 MB/s eta 0:00:01\r\u001b[K     |█████████████████████████▌      | 430 kB 26.7 MB/s eta 0:00:01\r\u001b[K     |██████████████████████████      | 440 kB 26.7 MB/s eta 0:00:01\r\u001b[K     |██████████████████████████▊     | 450 kB 26.7 MB/s eta 0:00:01\r\u001b[K     |███████████████████████████▎    | 460 kB 26.7 MB/s eta 0:00:01\r\u001b[K     |████████████████████████████    | 471 kB 26.7 MB/s eta 0:00:01\r\u001b[K     |████████████████████████████▌   | 481 kB 26.7 MB/s eta 0:00:01\r\u001b[K     |█████████████████████████████▏  | 491 kB 26.7 MB/s eta 0:00:01\r\u001b[K     |█████████████████████████████▊  | 501 kB 26.7 MB/s eta 0:00:01\r\u001b[K     |██████████████████████████████▍ | 512 kB 26.7 MB/s eta 0:00:01\r\u001b[K     |███████████████████████████████ | 522 kB 26.7 MB/s eta 0:00:01\r\u001b[K     |███████████████████████████████▌| 532 kB 26.7 MB/s eta 0:00:01\r\u001b[K     |████████████████████████████████| 540 kB 26.7 MB/s \n",
            "\u001b[?25hRequirement already satisfied: numpy in /usr/local/lib/python3.7/dist-packages (from mglearn) (1.19.5)\n",
            "Requirement already satisfied: matplotlib in /usr/local/lib/python3.7/dist-packages (from mglearn) (3.2.2)\n",
            "Requirement already satisfied: scikit-learn in /usr/local/lib/python3.7/dist-packages (from mglearn) (0.22.2.post1)\n",
            "Requirement already satisfied: pandas in /usr/local/lib/python3.7/dist-packages (from mglearn) (1.1.5)\n",
            "Requirement already satisfied: pillow in /usr/local/lib/python3.7/dist-packages (from mglearn) (7.1.2)\n",
            "Requirement already satisfied: cycler in /usr/local/lib/python3.7/dist-packages (from mglearn) (0.10.0)\n",
            "Requirement already satisfied: imageio in /usr/local/lib/python3.7/dist-packages (from mglearn) (2.4.1)\n",
            "Requirement already satisfied: joblib in /usr/local/lib/python3.7/dist-packages (from mglearn) (1.0.1)\n",
            "Requirement already satisfied: six in /usr/local/lib/python3.7/dist-packages (from cycler->mglearn) (1.15.0)\n",
            "Requirement already satisfied: kiwisolver>=1.0.1 in /usr/local/lib/python3.7/dist-packages (from matplotlib->mglearn) (1.3.1)\n",
            "Requirement already satisfied: python-dateutil>=2.1 in /usr/local/lib/python3.7/dist-packages (from matplotlib->mglearn) (2.8.2)\n",
            "Requirement already satisfied: pyparsing!=2.0.4,!=2.1.2,!=2.1.6,>=2.0.1 in /usr/local/lib/python3.7/dist-packages (from matplotlib->mglearn) (2.4.7)\n",
            "Requirement already satisfied: pytz>=2017.2 in /usr/local/lib/python3.7/dist-packages (from pandas->mglearn) (2018.9)\n",
            "Requirement already satisfied: scipy>=0.17.0 in /usr/local/lib/python3.7/dist-packages (from scikit-learn->mglearn) (1.4.1)\n",
            "Building wheels for collected packages: mglearn\n",
            "  Building wheel for mglearn (setup.py) ... \u001b[?25l\u001b[?25hdone\n",
            "  Created wheel for mglearn: filename=mglearn-0.1.9-py2.py3-none-any.whl size=582637 sha256=1b68cc486b4113a14f7526a65eeb24335a0eefa8c9b671b895a8eefd9d2fca20\n",
            "  Stored in directory: /root/.cache/pip/wheels/f1/17/e1/1720d6dcd70187b6b6c3750cb3508798f2b1d57c9d3214b08b\n",
            "Successfully built mglearn\n",
            "Installing collected packages: mglearn\n",
            "Successfully installed mglearn-0.1.9\n"
          ]
        },
        {
          "output_type": "stream",
          "name": "stderr",
          "text": [
            "/usr/local/lib/python3.7/dist-packages/sklearn/utils/deprecation.py:87: FutureWarning: Function make_blobs is deprecated; Please import make_blobs directly from scikit-learn\n",
            "  warnings.warn(msg, category=FutureWarning)\n"
          ]
        },
        {
          "output_type": "stream",
          "name": "stdout",
          "text": [
            "X.shape: (26, 2)\n"
          ]
        },
        {
          "output_type": "display_data",
          "data": {
            "image/png": "[encoded data removed]",
            "text/plain": [
              "<Figure size 432x288 with 1 Axes>"
            ]
          },
          "metadata": {
            "needs_background": "light"
          }
        }
      ]
    },
    {
      "cell_type": "code",
      "metadata": {
        "id": "nXtFHKzezRLz",
        "outputId": "f9efa00e-84f8-4471-f4ae-ef305b9470aa",
        "colab": {
          "base_uri": "https://localhost:8080/",
          "height": 300
        }
      },
      "source": [
        "X,y=mglearn.datasets.make_wave(n_samples=40)\n",
        "plt.plot(X,y,'o')\n",
        "plt.ylim(-3,3)\n",
        "plt.xlabel(\"Feature\")\n",
        "plt.ylabel(\"Target\")"
      ],
      "execution_count": 3,
      "outputs": [
        {
          "output_type": "execute_result",
          "data": {
            "text/plain": [
              "Text(0, 0.5, 'Target')"
            ]
          },
          "metadata": {},
          "execution_count": 3
        },
        {
          "output_type": "display_data",
          "data": {
            "image/png": "[encoded data removed]",
            "text/plain": [
              "<Figure size 432x288 with 1 Axes>"
            ]
          },
          "metadata": {
            "needs_background": "light"
          }
        }
      ]
    },
    {
      "cell_type": "code",
      "metadata": {
        "id": "RwhN5Opd229T",
        "outputId": "a35099fa-200f-41f6-8d72-7ef37420df25",
        "colab": {
          "base_uri": "https://localhost:8080/"
        }
      },
      "source": [
        "from sklearn.datasets import load_breast_cancer\n",
        "cancer = load_breast_cancer()\n",
        "print(\"canver.keys():\\n{}\".format(cancer.keys()))\n",
        "print(\"Shape of cancer data: {}\".format(cancer.data.shape))  # 569 data points and 30 featuresp"
      ],
      "execution_count": 11,
      "outputs": [
        {
          "output_type": "stream",
          "name": "stdout",
          "text": [
            "canver.keys():\n",
            "dict_keys(['data', 'target', 'target_names', 'DESCR', 'feature_names', 'filename'])\n",
            "Shape of cancer data: (569, 30)\n"
          ]
        }
      ]
    },
    {
      "cell_type": "code",
      "metadata": {
        "id": "ggIDbRvw4vFw",
        "outputId": "ea9fb5d7-b817-4e5b-b368-3e6fece1ca43",
        "colab": {
          "base_uri": "https://localhost:8080/"
        }
      },
      "source": [
        "print(\"Sample counts per class:\".format(\n",
        "    {n: v for n, v in zip(cancer.target_names, np.bincount(cancer.target))}))"
      ],
      "execution_count": 14,
      "outputs": [
        {
          "output_type": "stream",
          "name": "stdout",
          "text": [
            "Sample counts per class:\n"
          ]
        }
      ]
    },
    {
      "cell_type": "code",
      "metadata": {
        "id": "dX7w6o2e7Ueu",
        "outputId": "c0a1317d-222b-46a9-a3b3-7b9b32a79098",
        "colab": {
          "base_uri": "https://localhost:8080/"
        }
      },
      "source": [
        "print(\"Feature names:\\n{}\".format(cancer.feature_names))"
      ],
      "execution_count": 15,
      "outputs": [
        {
          "output_type": "stream",
          "name": "stdout",
          "text": [
            "Feature names:\n",
            "['mean radius' 'mean texture' 'mean perimeter' 'mean area'\n",
            " 'mean smoothness' 'mean compactness' 'mean concavity'\n",
            " 'mean concave points' 'mean symmetry' 'mean fractal dimension'\n",
            " 'radius error' 'texture error' 'perimeter error' 'area error'\n",
            " 'smoothness error' 'compactness error' 'concavity error'\n",
            " 'concave points error' 'symmetry error' 'fractal dimension error'\n",
            " 'worst radius' 'worst texture' 'worst perimeter' 'worst area'\n",
            " 'worst smoothness' 'worst compactness' 'worst concavity'\n",
            " 'worst concave points' 'worst symmetry' 'worst fractal dimension']\n"
          ]
        }
      ]
    },
    {
      "cell_type": "code",
      "metadata": {
        "id": "dkQc6Xt274Mo",
        "outputId": "fe03ed3d-bf7a-4f08-f7af-980b7caf348a",
        "colab": {
          "base_uri": "https://localhost:8080/"
        }
      },
      "source": [
        "from sklearn.datasets import load_boston\n",
        "boston = load_boston()\n",
        "print(\"Data shape: {}\".format(boston.data.shape))"
      ],
      "execution_count": 16,
      "outputs": [
        {
          "output_type": "stream",
          "name": "stdout",
          "text": [
            "Data shape: (506, 13)\n"
          ]
        }
      ]
    },
    {
      "cell_type": "code",
      "metadata": {
        "id": "2dWOakq28g7L",
        "outputId": "bb3a7824-e64e-4980-b4d0-8d0c46083b65",
        "colab": {
          "base_uri": "https://localhost:8080/"
        }
      },
      "source": [
        "X,y = mglearn.datasets.load_extended_boston()\n",
        "print(\"X.shape: {}\".format(X.shape))"
      ],
      "execution_count": 17,
      "outputs": [
        {
          "output_type": "stream",
          "name": "stdout",
          "text": [
            "X.shape: (506, 104)\n"
          ]
        }
      ]
    },
    {
      "cell_type": "markdown",
      "metadata": {
        "id": "-m_q833u9fDl"
      },
      "source": [
        "k-Neighbors is to predict based on what is the cloest point in the training set."
      ]
    },
    {
      "cell_type": "code",
      "metadata": {
        "id": "2QgZDTTT9yIe",
        "outputId": "6af2f22e-e33a-40ac-f787-f37fcb9709b7",
        "colab": {
          "base_uri": "https://localhost:8080/",
          "height": 319
        }
      },
      "source": [
        "X, y = mglearn.datasets.make_forge()\n",
        "mglearn.plots.plot_knn_classification(n_neighbors=1)"
      ],
      "execution_count": 21,
      "outputs": [
        {
          "output_type": "stream",
          "name": "stderr",
          "text": [
            "/usr/local/lib/python3.7/dist-packages/sklearn/utils/deprecation.py:87: FutureWarning: Function make_blobs is deprecated; Please import make_blobs directly from scikit-learn\n",
            "  warnings.warn(msg, category=FutureWarning)\n"
          ]
        },
        {
          "output_type": "display_data",
          "data": {
            "image/png": "[encoded data removed]",
            "text/plain": [
              "<Figure size 432x288 with 1 Axes>"
            ]
          },
          "metadata": {
            "needs_background": "light"
          }
        }
      ]
    }
  ]
}